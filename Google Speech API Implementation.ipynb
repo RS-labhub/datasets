# Install the SpeechRecognition and pipwin classes to work with the Recognizer() class
pip install SpeechRecognition
Collecting SpeechRecognition
  Downloading SpeechRecognition-3.8.1-py2.py3-none-any.whl (32.8 MB)
Installing collected packages: SpeechRecognition
Successfully installed SpeechRecognition-3.8.1
Note: you may need to restart the kernel to use updated packages.
pip install pipwin
Collecting pipwin
  Downloading pipwin-0.5.1.tar.gz (8.8 kB)
Collecting docopt
  Downloading docopt-0.6.2.tar.gz (25 kB)
Requirement already satisfied: requests in c:\users\rahul\anaconda3\lib\site-packages (from pipwin) (2.22.0)
Collecting pyprind
  Downloading PyPrind-2.11.3-py2.py3-none-any.whl (8.4 kB)
Requirement already satisfied: six in c:\users\rahul\anaconda3\lib\site-packages (from pipwin) (1.14.0)
Collecting beautifulsoup4>=4.9.0
  Downloading beautifulsoup4-4.9.3-py3-none-any.whl (115 kB)
Collecting js2py
  Downloading Js2Py-0.71-py3-none-any.whl (1.0 MB)
Requirement already satisfied: packaging in c:\users\rahul\anaconda3\lib\site-packages (from pipwin) (20.1)
Collecting pySmartDL>=1.3.1
  Downloading pySmartDL-1.3.4-py3-none-any.whl (20 kB)
Requirement already satisfied: urllib3!=1.25.0,!=1.25.1,<1.26,>=1.21.1 in c:\users\rahul\anaconda3\lib\site-packages (from requests->pipwin) (1.25.8)
Requirement already satisfied: chardet<3.1.0,>=3.0.2 in c:\users\rahul\anaconda3\lib\site-packages (from requests->pipwin) (3.0.4)
Requirement already satisfied: idna<2.9,>=2.5 in c:\users\rahul\anaconda3\lib\site-packages (from requests->pipwin) (2.8)
Requirement already satisfied: certifi>=2017.4.17 in c:\users\rahul\anaconda3\lib\site-packages (from requests->pipwin) (2019.11.28)
Requirement already satisfied: soupsieve>1.2; python_version >= "3.0" in c:\users\rahul\anaconda3\lib\site-packages (from beautifulsoup4>=4.9.0->pipwin) (1.9.5)
Collecting pyjsparser>=2.5.1
  Downloading pyjsparser-2.7.1.tar.gz (24 kB)
Collecting tzlocal>=1.2
  Downloading tzlocal-2.1-py2.py3-none-any.whl (16 kB)
Requirement already satisfied: pyparsing>=2.0.2 in c:\users\rahul\anaconda3\lib\site-packages (from packaging->pipwin) (2.4.6)
Requirement already satisfied: pytz in c:\users\rahul\anaconda3\lib\site-packages (from tzlocal>=1.2->js2py->pipwin) (2019.3)
Building wheels for collected packages: pipwin, docopt, pyjsparser
  Building wheel for pipwin (setup.py): started
  Building wheel for pipwin (setup.py): finished with status 'done'
  Created wheel for pipwin: filename=pipwin-0.5.1-py2.py3-none-any.whl size=8783 sha256=72220b85492ad8674683bee81e780c4ff38f73ba3a9bae172289b2b22dabdaee
  Stored in directory: c:\users\rahul\appdata\local\pip\cache\wheels\4e\f2\06\9024048eece9a22afc7a013395d6de2d345f56185095550d4c
  Building wheel for docopt (setup.py): started
  Building wheel for docopt (setup.py): finished with status 'done'
  Created wheel for docopt: filename=docopt-0.6.2-py2.py3-none-any.whl size=13709 sha256=af55ad2f16a04123dbf49284d77d1f9ed8c0d974616f6f1db2ed167ef5e77015
  Stored in directory: c:\users\rahul\appdata\local\pip\cache\wheels\72\b0\3f\1d95f96ff986c7dfffe46ce2be4062f38ebd04b506c77c81b9
  Building wheel for pyjsparser (setup.py): started
  Building wheel for pyjsparser (setup.py): finished with status 'done'
  Created wheel for pyjsparser: filename=pyjsparser-2.7.1-py3-none-any.whl size=26004 sha256=dfb3ade75878c2368af5c166eedc46fe627bfc86311eb73d9377aeb0f3ea02b1
  Stored in directory: c:\users\rahul\appdata\local\pip\cache\wheels\2a\80\ac\dcd2bdbd03dd2b7b7e2bf3e5afbda6a1ab7935bbce314969da
Successfully built pipwin docopt pyjsparser
Installing collected packages: docopt, pyprind, beautifulsoup4, pyjsparser, tzlocal, js2py, pySmartDL, pipwin
  Attempting uninstall: beautifulsoup4
    Found existing installation: beautifulsoup4 4.8.2
    Uninstalling beautifulsoup4-4.8.2:
      Successfully uninstalled beautifulsoup4-4.8.2
Successfully installed beautifulsoup4-4.9.3 docopt-0.6.2 js2py-0.71 pipwin-0.5.1 pySmartDL-1.3.4 pyjsparser-2.7.1 pyprind-2.11.3 tzlocal-2.1
Note: you may need to restart the kernel to use updated packages.
# Below are a few links that can give details about the PyAudio class we will be using to read direct microphone input into the Jupyter Notebook
# https://anaconda.org/anaconda/pyaudio
# https://www.lfd.uci.edu/~gohlke/pythonlibs/#pyaudio
# To install PyAudio, Run in the Anaconda Terminal CMD: conda install -c anaconda pyaudio
# Pre-requisite for running PyAudio installation - Microsoft Visual C++ 14.0 or greater will be required. Get it with "Microsoft C++ Build Tools" : https://visualstudio.microsoft.com/visual-cpp-build-tools/
# To run PyAudio on Colab, please install PyAudio.whl in your local system and give that path to colab for installation
pip install pyaudio
Requirement already satisfied: pyaudio in c:\users\rahul\anaconda3\lib\site-packages (0.2.11)
Note: you may need to restart the kernel to use updated packages.
import speech_recognition as speech_recog
# Creating a recording object to store input
rec = speech_recog.Recognizer()
# Importing the microphone class to check availabiity of microphones
mic_test = speech_recog.Microphone()
# List the available microphones
speech_recog.Microphone.list_microphone_names()
['Microsoft Sound Mapper - Input',
 'Microphone (Realtek High Defini',
 'Microsoft Sound Mapper - Output',
 'Speakers (Realtek High Definiti',
 'Stereo Mix (Realtek HD Audio Stereo input)',
 'Microphone (Realtek HD Audio Mic input)',
 'Speakers (Realtek HD Audio output)']
# We will now directly use the microphone module to capture voice input
# Specifying the second microphone to be used for a duration of 3 seconds
# The algorithm will also adjust given input and clear it of any ambient noise
with speech_recog.Microphone(device_index=1) as source: 
    rec.adjust_for_ambient_noise(source, duration=3)
    print("Reach the Microphone and say something!")
    audio = rec.listen(source)
Reach the Microphone and say something!
# Use the recognize function to transcribe spoken words to text
try:
    print("I think you said: \n" + rec.recognize_google(audio))
except Exception as e:
    print(e)
I think you said: 
hi hello hello hello
